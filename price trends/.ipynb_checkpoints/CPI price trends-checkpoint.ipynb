{
 "cells": [
  {
   "cell_type": "markdown",
   "metadata": {},
   "source": [
    "# CPI price trends \n",
    "\n",
    "This is code for a python workshop with LSE undergraduate economics students to assess price ridigity and trends using UK CPI data.\n",
    "\n",
    "__The brief__\n",
    "\n",
    "You are an economics consultant and have been approached by an ecommerce business who are looking to expand the products available on their platform. They would like you to provide an analysis of popular items for UK consumers and their corresponding price trends. As an online site they might also want to know about regional differences and how that might inform their firm's pricing decisions. "
   ]
  },
  {
   "cell_type": "markdown",
   "metadata": {},
   "source": [
    "# Motivation \n",
    "\n",
    "The source of price rigidity is a foundational question in macroeconomics, and one which improvments in data is consistently shifting our understanding of. This data has been provided by [Richard Davies](https://richarddavies.io/research/the-uk-consumer-basket) where you can also find the corresponding draft paper. \n",
    "\n",
    "<img src=\"london, alcohol prices.png\" alt=\"london, alcohol prices\" width=\"400\"/>\n",
    "\n",
    "## Related literature \n",
    "For the purposes of the weekend, we suggest only skimming one or two of the papers. Given you are time constrained, you should not spend a lot of your time on this. \n",
    "\n",
    "Klenow P and Malin B (2010), “Microeconomic Evidence on Price Setting”, prepared for the Handbook of Monetary Economics. Available [here](https://www.nber.org/papers/w15826)\n",
    "\n",
    "Kehoe, Patrick and Virgiliu Midrigan (2014) “Prices are Sticky After All,\" Journal of Monetary Economics. Available [here](https://www.sciencedirect.com/science/article/pii/S0304393214001809)\n",
    "\n",
    "Nakamura, Emi and Jón Steinsson (2013), “Lost in Transit: Product Replacement Bias and Pricing to Market”, American Economic Review 2012, 102(7): 3277–3316. [here](https://www.aeaweb.org/articles?id=10.1257/aer.102.7.3277)\n"
   ]
  },
  {
   "cell_type": "markdown",
   "metadata": {},
   "source": [
    "# Import relevant packages\n",
    "Students should be familiar with most these packages, you will use the usual pandas, numpy and mapplotlib - no additions needed (I hope!)."
   ]
  },
  {
   "cell_type": "code",
   "execution_count": 256,
   "metadata": {},
   "outputs": [],
   "source": [
    "import pandas as pd\n",
    "import numpy as np\n",
    "import matplotlib.pyplot as plt\n",
    "import seaborn as sns\n",
    "import ggplot"
   ]
  },
  {
   "cell_type": "markdown",
   "metadata": {},
   "source": [
    "# Import data\n",
    "This will be a more discursive task. There is no correct answer. \n",
    "\n",
    "__TIP__ You should however explain what the CPI basket is and understand how basket items are selected and deselected. \n",
    "\n",
    "The price data come from monthly records of prices known as ‘price quotes’ that are recorded by the Office for National Statistics (ONS). The price quotes files contain information on the item sold, its location, the shop and shop type (the size of the establishment) it is sold in, and whether it was offered at a sale or regular price. In the past year the ONS have also begun collecting prices from online retailers. The final raw data has over 32m observations. The dataset you will be using is not the original ONS price quotes data** but a smaller, cleaner sample with fewer basket items available to download from [here](). \n",
    "\n",
    "** all datasets from 1996- present are available to explore [here](https://www.ons.gov.uk/economy/inflationandpriceindices/datasets/consumerpriceindicescpiandretailpricesindexrpiitemindicesandpricequotes)"
   ]
  },
  {
   "cell_type": "code",
   "execution_count": 260,
   "metadata": {},
   "outputs": [
    {
     "data": {
      "text/html": [
       "<div>\n",
       "<style scoped>\n",
       "    .dataframe tbody tr th:only-of-type {\n",
       "        vertical-align: middle;\n",
       "    }\n",
       "\n",
       "    .dataframe tbody tr th {\n",
       "        vertical-align: top;\n",
       "    }\n",
       "\n",
       "    .dataframe thead th {\n",
       "        text-align: right;\n",
       "    }\n",
       "</style>\n",
       "<table border=\"1\" class=\"dataframe\">\n",
       "  <thead>\n",
       "    <tr style=\"text-align: right;\">\n",
       "      <th></th>\n",
       "      <th>date</th>\n",
       "      <th>year</th>\n",
       "      <th>month</th>\n",
       "      <th>item</th>\n",
       "      <th>description</th>\n",
       "      <th>price</th>\n",
       "      <th>region</th>\n",
       "    </tr>\n",
       "  </thead>\n",
       "  <tbody>\n",
       "    <tr>\n",
       "      <th>0</th>\n",
       "      <td>1</td>\n",
       "      <td>1996</td>\n",
       "      <td>1</td>\n",
       "      <td>206</td>\n",
       "      <td>CHOCOLATE</td>\n",
       "      <td>0.30</td>\n",
       "      <td>London</td>\n",
       "    </tr>\n",
       "    <tr>\n",
       "      <th>1</th>\n",
       "      <td>1</td>\n",
       "      <td>1996</td>\n",
       "      <td>1</td>\n",
       "      <td>206</td>\n",
       "      <td>CHOCOLATE</td>\n",
       "      <td>0.27</td>\n",
       "      <td>East Midlands</td>\n",
       "    </tr>\n",
       "  </tbody>\n",
       "</table>\n",
       "</div>"
      ],
      "text/plain": [
       "   date  year  month  item description  price         region\n",
       "0     1  1996      1   206   CHOCOLATE   0.30         London\n",
       "1     1  1996      1   206   CHOCOLATE   0.27  East Midlands"
      ]
     },
     "execution_count": 260,
     "metadata": {},
     "output_type": "execute_result"
    }
   ],
   "source": [
    "df1= pd.read_csv('everpresent10items .csv') # I stopped using hte 10% sample here, as the charts look slightly odd \n",
    "\n",
    "df1.head(n=2)"
   ]
  },
  {
   "cell_type": "markdown",
   "metadata": {},
   "source": [
    "# Inspect the data\n",
    "Once you import the data, you want to look at what the data is telling us and how we can use it.\n",
    "\n",
    "Need to get to know the data you're using before doing any analysis.\n",
    "\n",
    "It is also good practise to check the data is clean so you can iron out issues before getting stuck part-way through. \n",
    "\n",
    "__TIP__: Note down some of the interesting stats from here - this will be helpful when giving your presentation."
   ]
  },
  {
   "cell_type": "code",
   "execution_count": 261,
   "metadata": {},
   "outputs": [
    {
     "data": {
      "text/plain": [
       "(601692, 7)"
      ]
     },
     "execution_count": 261,
     "metadata": {},
     "output_type": "execute_result"
    }
   ],
   "source": [
    "df1.shape"
   ]
  },
  {
   "cell_type": "code",
   "execution_count": 262,
   "metadata": {
    "scrolled": false
   },
   "outputs": [
    {
     "data": {
      "text/html": [
       "<div>\n",
       "<style scoped>\n",
       "    .dataframe tbody tr th:only-of-type {\n",
       "        vertical-align: middle;\n",
       "    }\n",
       "\n",
       "    .dataframe tbody tr th {\n",
       "        vertical-align: top;\n",
       "    }\n",
       "\n",
       "    .dataframe thead th {\n",
       "        text-align: right;\n",
       "    }\n",
       "</style>\n",
       "<table border=\"1\" class=\"dataframe\">\n",
       "  <thead>\n",
       "    <tr style=\"text-align: right;\">\n",
       "      <th></th>\n",
       "      <th>date</th>\n",
       "      <th>year</th>\n",
       "      <th>month</th>\n",
       "      <th>item</th>\n",
       "      <th>price</th>\n",
       "    </tr>\n",
       "  </thead>\n",
       "  <tbody>\n",
       "    <tr>\n",
       "      <th>count</th>\n",
       "      <td>601692.000000</td>\n",
       "      <td>601692.000000</td>\n",
       "      <td>601692.000000</td>\n",
       "      <td>601692.000000</td>\n",
       "      <td>601692.000000</td>\n",
       "    </tr>\n",
       "    <tr>\n",
       "      <th>mean</th>\n",
       "      <td>140.045088</td>\n",
       "      <td>2007.131418</td>\n",
       "      <td>6.468075</td>\n",
       "      <td>580.713526</td>\n",
       "      <td>11.982095</td>\n",
       "    </tr>\n",
       "    <tr>\n",
       "      <th>std</th>\n",
       "      <td>83.090642</td>\n",
       "      <td>6.925653</td>\n",
       "      <td>3.477121</td>\n",
       "      <td>272.249871</td>\n",
       "      <td>32.108948</td>\n",
       "    </tr>\n",
       "    <tr>\n",
       "      <th>min</th>\n",
       "      <td>1.000000</td>\n",
       "      <td>1996.000000</td>\n",
       "      <td>1.000000</td>\n",
       "      <td>206.000000</td>\n",
       "      <td>0.200000</td>\n",
       "    </tr>\n",
       "    <tr>\n",
       "      <th>25%</th>\n",
       "      <td>66.000000</td>\n",
       "      <td>2001.000000</td>\n",
       "      <td>3.000000</td>\n",
       "      <td>390.000000</td>\n",
       "      <td>1.150000</td>\n",
       "    </tr>\n",
       "    <tr>\n",
       "      <th>50%</th>\n",
       "      <td>143.000000</td>\n",
       "      <td>2007.000000</td>\n",
       "      <td>6.000000</td>\n",
       "      <td>443.000000</td>\n",
       "      <td>2.490000</td>\n",
       "    </tr>\n",
       "    <tr>\n",
       "      <th>75%</th>\n",
       "      <td>212.000000</td>\n",
       "      <td>2013.000000</td>\n",
       "      <td>10.000000</td>\n",
       "      <td>789.000000</td>\n",
       "      <td>8.000000</td>\n",
       "    </tr>\n",
       "    <tr>\n",
       "      <th>max</th>\n",
       "      <td>280.000000</td>\n",
       "      <td>2019.000000</td>\n",
       "      <td>12.000000</td>\n",
       "      <td>1146.000000</td>\n",
       "      <td>1625.000000</td>\n",
       "    </tr>\n",
       "  </tbody>\n",
       "</table>\n",
       "</div>"
      ],
      "text/plain": [
       "                date           year          month           item  \\\n",
       "count  601692.000000  601692.000000  601692.000000  601692.000000   \n",
       "mean      140.045088    2007.131418       6.468075     580.713526   \n",
       "std        83.090642       6.925653       3.477121     272.249871   \n",
       "min         1.000000    1996.000000       1.000000     206.000000   \n",
       "25%        66.000000    2001.000000       3.000000     390.000000   \n",
       "50%       143.000000    2007.000000       6.000000     443.000000   \n",
       "75%       212.000000    2013.000000      10.000000     789.000000   \n",
       "max       280.000000    2019.000000      12.000000    1146.000000   \n",
       "\n",
       "               price  \n",
       "count  601692.000000  \n",
       "mean       11.982095  \n",
       "std        32.108948  \n",
       "min         0.200000  \n",
       "25%         1.150000  \n",
       "50%         2.490000  \n",
       "75%         8.000000  \n",
       "max      1625.000000  "
      ]
     },
     "execution_count": 262,
     "metadata": {},
     "output_type": "execute_result"
    }
   ],
   "source": [
    "df1.describe()"
   ]
  },
  {
   "cell_type": "code",
   "execution_count": 263,
   "metadata": {},
   "outputs": [
    {
     "data": {
      "text/plain": [
       "date           601692\n",
       "year           601692\n",
       "month          601692\n",
       "item           601692\n",
       "description    601692\n",
       "price          601692\n",
       "region         601692\n",
       "dtype: int64"
      ]
     },
     "execution_count": 263,
     "metadata": {},
     "output_type": "execute_result"
    }
   ],
   "source": [
    "df1.count()"
   ]
  },
  {
   "cell_type": "code",
   "execution_count": 264,
   "metadata": {
    "scrolled": true
   },
   "outputs": [
    {
     "data": {
      "text/html": [
       "<div>\n",
       "<style scoped>\n",
       "    .dataframe tbody tr th:only-of-type {\n",
       "        vertical-align: middle;\n",
       "    }\n",
       "\n",
       "    .dataframe tbody tr th {\n",
       "        vertical-align: top;\n",
       "    }\n",
       "\n",
       "    .dataframe thead th {\n",
       "        text-align: right;\n",
       "    }\n",
       "</style>\n",
       "<table border=\"1\" class=\"dataframe\">\n",
       "  <thead>\n",
       "    <tr style=\"text-align: right;\">\n",
       "      <th></th>\n",
       "      <th>date</th>\n",
       "      <th>year</th>\n",
       "      <th>month</th>\n",
       "      <th>item</th>\n",
       "      <th>description</th>\n",
       "      <th>price</th>\n",
       "      <th>region</th>\n",
       "    </tr>\n",
       "  </thead>\n",
       "  <tbody>\n",
       "    <tr>\n",
       "      <th>601690</th>\n",
       "      <td>280</td>\n",
       "      <td>2019</td>\n",
       "      <td>4</td>\n",
       "      <td>1146</td>\n",
       "      <td>MINICAB</td>\n",
       "      <td>6.4</td>\n",
       "      <td>South West</td>\n",
       "    </tr>\n",
       "    <tr>\n",
       "      <th>601691</th>\n",
       "      <td>280</td>\n",
       "      <td>2019</td>\n",
       "      <td>4</td>\n",
       "      <td>1146</td>\n",
       "      <td>MINICAB</td>\n",
       "      <td>4.5</td>\n",
       "      <td>North</td>\n",
       "    </tr>\n",
       "  </tbody>\n",
       "</table>\n",
       "</div>"
      ],
      "text/plain": [
       "        date  year  month  item description  price      region\n",
       "601690   280  2019      4  1146     MINICAB    6.4  South West\n",
       "601691   280  2019      4  1146     MINICAB    4.5       North"
      ]
     },
     "execution_count": 264,
     "metadata": {},
     "output_type": "execute_result"
    }
   ],
   "source": [
    "df1.tail(n=2)"
   ]
  },
  {
   "cell_type": "markdown",
   "metadata": {},
   "source": [
    "You now want to find out what the 10 items are that you have in this dataset "
   ]
  },
  {
   "cell_type": "code",
   "execution_count": 265,
   "metadata": {
    "scrolled": true
   },
   "outputs": [
    {
     "data": {
      "text/plain": [
       "array(['CHOCOLATE', 'COFFEE', 'SANDWICH', 'CRISPS', 'VODKA', 'CIGARETTES',\n",
       "       'MENS JACKET/COAT', \"WOMEN'S JUMPER\", 'MASCARA', 'MINICAB'],\n",
       "      dtype=object)"
      ]
     },
     "execution_count": 265,
     "metadata": {},
     "output_type": "execute_result"
    }
   ],
   "source": [
    "df1.description.unique()"
   ]
  },
  {
   "cell_type": "markdown",
   "metadata": {},
   "source": [
    "Do the same for regions. \n",
    "\n",
    "__Q__: Is this data grouped by the 4 nations or by NUTS1 regions?"
   ]
  },
  {
   "cell_type": "code",
   "execution_count": 266,
   "metadata": {},
   "outputs": [
    {
     "data": {
      "text/plain": [
       "array(['London', 'East Midlands', 'Scotland', 'Yorkshire & Humber',\n",
       "       'South East', 'South West', 'Northern Ireland', 'North',\n",
       "       'East Anglia', 'North West', 'Wales', 'West Midlands',\n",
       "       'Catalogue collections'], dtype=object)"
      ]
     },
     "execution_count": 266,
     "metadata": {},
     "output_type": "execute_result"
    }
   ],
   "source": [
    "df1.region.unique()"
   ]
  },
  {
   "cell_type": "markdown",
   "metadata": {},
   "source": [
    "### (check the data is clean)\n",
    "Next, we check that there are no zero prices, and some other tests for problematic data. \n",
    "\n",
    "Since the data is pre-cleaned, the results to this should all be negative, but it is good practise to assess your datasets! "
   ]
  },
  {
   "cell_type": "code",
   "execution_count": 267,
   "metadata": {
    "scrolled": true
   },
   "outputs": [
    {
     "data": {
      "text/html": [
       "<div>\n",
       "<style scoped>\n",
       "    .dataframe tbody tr th:only-of-type {\n",
       "        vertical-align: middle;\n",
       "    }\n",
       "\n",
       "    .dataframe tbody tr th {\n",
       "        vertical-align: top;\n",
       "    }\n",
       "\n",
       "    .dataframe thead th {\n",
       "        text-align: right;\n",
       "    }\n",
       "</style>\n",
       "<table border=\"1\" class=\"dataframe\">\n",
       "  <thead>\n",
       "    <tr style=\"text-align: right;\">\n",
       "      <th></th>\n",
       "      <th>date</th>\n",
       "      <th>year</th>\n",
       "      <th>month</th>\n",
       "      <th>item</th>\n",
       "      <th>description</th>\n",
       "      <th>price</th>\n",
       "      <th>region</th>\n",
       "    </tr>\n",
       "  </thead>\n",
       "  <tbody>\n",
       "  </tbody>\n",
       "</table>\n",
       "</div>"
      ],
      "text/plain": [
       "Empty DataFrame\n",
       "Columns: [date, year, month, item, description, price, region]\n",
       "Index: []"
      ]
     },
     "execution_count": 267,
     "metadata": {},
     "output_type": "execute_result"
    }
   ],
   "source": [
    "df1[df1.price ==0]"
   ]
  },
  {
   "cell_type": "markdown",
   "metadata": {},
   "source": [
    "Now we check if there are any empty cells"
   ]
  },
  {
   "cell_type": "code",
   "execution_count": 268,
   "metadata": {
    "scrolled": false
   },
   "outputs": [
    {
     "data": {
      "text/html": [
       "<div>\n",
       "<style scoped>\n",
       "    .dataframe tbody tr th:only-of-type {\n",
       "        vertical-align: middle;\n",
       "    }\n",
       "\n",
       "    .dataframe tbody tr th {\n",
       "        vertical-align: top;\n",
       "    }\n",
       "\n",
       "    .dataframe thead th {\n",
       "        text-align: right;\n",
       "    }\n",
       "</style>\n",
       "<table border=\"1\" class=\"dataframe\">\n",
       "  <thead>\n",
       "    <tr style=\"text-align: right;\">\n",
       "      <th></th>\n",
       "      <th>date</th>\n",
       "      <th>year</th>\n",
       "      <th>month</th>\n",
       "      <th>item</th>\n",
       "      <th>description</th>\n",
       "      <th>price</th>\n",
       "      <th>region</th>\n",
       "    </tr>\n",
       "  </thead>\n",
       "  <tbody>\n",
       "    <tr>\n",
       "      <th>0</th>\n",
       "      <td>False</td>\n",
       "      <td>False</td>\n",
       "      <td>False</td>\n",
       "      <td>False</td>\n",
       "      <td>False</td>\n",
       "      <td>False</td>\n",
       "      <td>False</td>\n",
       "    </tr>\n",
       "    <tr>\n",
       "      <th>1</th>\n",
       "      <td>False</td>\n",
       "      <td>False</td>\n",
       "      <td>False</td>\n",
       "      <td>False</td>\n",
       "      <td>False</td>\n",
       "      <td>False</td>\n",
       "      <td>False</td>\n",
       "    </tr>\n",
       "    <tr>\n",
       "      <th>2</th>\n",
       "      <td>False</td>\n",
       "      <td>False</td>\n",
       "      <td>False</td>\n",
       "      <td>False</td>\n",
       "      <td>False</td>\n",
       "      <td>False</td>\n",
       "      <td>False</td>\n",
       "    </tr>\n",
       "    <tr>\n",
       "      <th>3</th>\n",
       "      <td>False</td>\n",
       "      <td>False</td>\n",
       "      <td>False</td>\n",
       "      <td>False</td>\n",
       "      <td>False</td>\n",
       "      <td>False</td>\n",
       "      <td>False</td>\n",
       "    </tr>\n",
       "    <tr>\n",
       "      <th>4</th>\n",
       "      <td>False</td>\n",
       "      <td>False</td>\n",
       "      <td>False</td>\n",
       "      <td>False</td>\n",
       "      <td>False</td>\n",
       "      <td>False</td>\n",
       "      <td>False</td>\n",
       "    </tr>\n",
       "    <tr>\n",
       "      <th>...</th>\n",
       "      <td>...</td>\n",
       "      <td>...</td>\n",
       "      <td>...</td>\n",
       "      <td>...</td>\n",
       "      <td>...</td>\n",
       "      <td>...</td>\n",
       "      <td>...</td>\n",
       "    </tr>\n",
       "    <tr>\n",
       "      <th>601687</th>\n",
       "      <td>False</td>\n",
       "      <td>False</td>\n",
       "      <td>False</td>\n",
       "      <td>False</td>\n",
       "      <td>False</td>\n",
       "      <td>False</td>\n",
       "      <td>False</td>\n",
       "    </tr>\n",
       "    <tr>\n",
       "      <th>601688</th>\n",
       "      <td>False</td>\n",
       "      <td>False</td>\n",
       "      <td>False</td>\n",
       "      <td>False</td>\n",
       "      <td>False</td>\n",
       "      <td>False</td>\n",
       "      <td>False</td>\n",
       "    </tr>\n",
       "    <tr>\n",
       "      <th>601689</th>\n",
       "      <td>False</td>\n",
       "      <td>False</td>\n",
       "      <td>False</td>\n",
       "      <td>False</td>\n",
       "      <td>False</td>\n",
       "      <td>False</td>\n",
       "      <td>False</td>\n",
       "    </tr>\n",
       "    <tr>\n",
       "      <th>601690</th>\n",
       "      <td>False</td>\n",
       "      <td>False</td>\n",
       "      <td>False</td>\n",
       "      <td>False</td>\n",
       "      <td>False</td>\n",
       "      <td>False</td>\n",
       "      <td>False</td>\n",
       "    </tr>\n",
       "    <tr>\n",
       "      <th>601691</th>\n",
       "      <td>False</td>\n",
       "      <td>False</td>\n",
       "      <td>False</td>\n",
       "      <td>False</td>\n",
       "      <td>False</td>\n",
       "      <td>False</td>\n",
       "      <td>False</td>\n",
       "    </tr>\n",
       "  </tbody>\n",
       "</table>\n",
       "<p>601692 rows × 7 columns</p>\n",
       "</div>"
      ],
      "text/plain": [
       "         date   year  month   item  description  price  region\n",
       "0       False  False  False  False        False  False   False\n",
       "1       False  False  False  False        False  False   False\n",
       "2       False  False  False  False        False  False   False\n",
       "3       False  False  False  False        False  False   False\n",
       "4       False  False  False  False        False  False   False\n",
       "...       ...    ...    ...    ...          ...    ...     ...\n",
       "601687  False  False  False  False        False  False   False\n",
       "601688  False  False  False  False        False  False   False\n",
       "601689  False  False  False  False        False  False   False\n",
       "601690  False  False  False  False        False  False   False\n",
       "601691  False  False  False  False        False  False   False\n",
       "\n",
       "[601692 rows x 7 columns]"
      ]
     },
     "execution_count": 268,
     "metadata": {},
     "output_type": "execute_result"
    }
   ],
   "source": [
    "pd.isnull(df1)"
   ]
  },
  {
   "cell_type": "markdown",
   "metadata": {},
   "source": [
    "So far it looks likes the data is clean and we know what were are using. Let's make a start on our analysis."
   ]
  },
  {
   "cell_type": "code",
   "execution_count": 269,
   "metadata": {},
   "outputs": [],
   "source": [
    "choc = df1[df1.description =='CHOCOLATE']"
   ]
  },
  {
   "cell_type": "code",
   "execution_count": 270,
   "metadata": {},
   "outputs": [
    {
     "data": {
      "text/html": [
       "<div>\n",
       "<style scoped>\n",
       "    .dataframe tbody tr th:only-of-type {\n",
       "        vertical-align: middle;\n",
       "    }\n",
       "\n",
       "    .dataframe tbody tr th {\n",
       "        vertical-align: top;\n",
       "    }\n",
       "\n",
       "    .dataframe thead th {\n",
       "        text-align: right;\n",
       "    }\n",
       "</style>\n",
       "<table border=\"1\" class=\"dataframe\">\n",
       "  <thead>\n",
       "    <tr style=\"text-align: right;\">\n",
       "      <th></th>\n",
       "      <th>date</th>\n",
       "      <th>year</th>\n",
       "      <th>month</th>\n",
       "      <th>item</th>\n",
       "      <th>description</th>\n",
       "      <th>price</th>\n",
       "      <th>region</th>\n",
       "    </tr>\n",
       "  </thead>\n",
       "  <tbody>\n",
       "    <tr>\n",
       "      <th>0</th>\n",
       "      <td>1</td>\n",
       "      <td>1996</td>\n",
       "      <td>1</td>\n",
       "      <td>206</td>\n",
       "      <td>CHOCOLATE</td>\n",
       "      <td>0.30</td>\n",
       "      <td>London</td>\n",
       "    </tr>\n",
       "    <tr>\n",
       "      <th>1</th>\n",
       "      <td>1</td>\n",
       "      <td>1996</td>\n",
       "      <td>1</td>\n",
       "      <td>206</td>\n",
       "      <td>CHOCOLATE</td>\n",
       "      <td>0.27</td>\n",
       "      <td>East Midlands</td>\n",
       "    </tr>\n",
       "  </tbody>\n",
       "</table>\n",
       "</div>"
      ],
      "text/plain": [
       "   date  year  month  item description  price         region\n",
       "0     1  1996      1   206   CHOCOLATE   0.30         London\n",
       "1     1  1996      1   206   CHOCOLATE   0.27  East Midlands"
      ]
     },
     "execution_count": 270,
     "metadata": {},
     "output_type": "execute_result"
    }
   ],
   "source": [
    "choc.head(n=2)"
   ]
  },
  {
   "cell_type": "code",
   "execution_count": 271,
   "metadata": {
    "scrolled": true
   },
   "outputs": [
    {
     "data": {
      "image/png": "[encoded data removed]",
      "text/plain": [
       "<Figure size 432x288 with 1 Axes>"
      ]
     },
     "metadata": {
      "needs_background": "light"
     },
     "output_type": "display_data"
    }
   ],
   "source": [
    "plt.scatter(choc['date'].values, choc['price'].values)\n",
    "\n",
    "plt.title('UK chocolate prices, 1996-2019 ')\n",
    "plt.xlabel('date') # Set x-axis label\n",
    "plt.ylabel('price, £') # Set y-axis label\n",
    "sns.despine() #neater layout, not needed if you haven't imported/installed the package 'seaborn'\n",
    "plt.show()"
   ]
  },
  {
   "cell_type": "markdown",
   "metadata": {},
   "source": [
    "Clearly, this doesn't look great and doesn't tell us much information.\n",
    "\n",
    "We can create percentiles to have a broader look at the price trends of our items. "
   ]
  },
  {
   "cell_type": "markdown",
   "metadata": {},
   "source": [
    "# Creating percentiles \n",
    "\n",
    "We want to create percentiles p10 all the way to p90 for each of our ten items. "
   ]
  },
  {
   "cell_type": "code",
   "execution_count": 272,
   "metadata": {
    "scrolled": true
   },
   "outputs": [],
   "source": [
    "# again we are only using chocolate data here \n",
    "chocagg = df1[df1['description'] == 'CHOCOLATE'].groupby('date').agg(\n",
    "    # Get max of the price column for each group\n",
    "    max_price=('price', max),\n",
    "    # Get min of the price column for each group\n",
    "    min_price=('price', min),\n",
    "    # Get mean of the price column for each group\n",
    "    mean_price=('price', np.mean),\n",
    "    # Get sum of the price column for each group\n",
    "    total_price=('price', sum)).reset_index() \n",
    "\n",
    "# this was a helpful site: http://www.pybloggers.com/2018/12/python-pandas-groupby-tutorial/"
   ]
  },
  {
   "cell_type": "code",
   "execution_count": 273,
   "metadata": {
    "scrolled": false
   },
   "outputs": [
    {
     "data": {
      "text/html": [
       "<div>\n",
       "<style scoped>\n",
       "    .dataframe tbody tr th:only-of-type {\n",
       "        vertical-align: middle;\n",
       "    }\n",
       "\n",
       "    .dataframe tbody tr th {\n",
       "        vertical-align: top;\n",
       "    }\n",
       "\n",
       "    .dataframe thead th {\n",
       "        text-align: right;\n",
       "    }\n",
       "</style>\n",
       "<table border=\"1\" class=\"dataframe\">\n",
       "  <thead>\n",
       "    <tr style=\"text-align: right;\">\n",
       "      <th></th>\n",
       "      <th>date</th>\n",
       "      <th>max_price</th>\n",
       "      <th>min_price</th>\n",
       "      <th>mean_price</th>\n",
       "      <th>total_price</th>\n",
       "    </tr>\n",
       "  </thead>\n",
       "  <tbody>\n",
       "    <tr>\n",
       "      <th>0</th>\n",
       "      <td>1</td>\n",
       "      <td>0.3</td>\n",
       "      <td>0.2</td>\n",
       "      <td>0.263116</td>\n",
       "      <td>52.36</td>\n",
       "    </tr>\n",
       "    <tr>\n",
       "      <th>1</th>\n",
       "      <td>2</td>\n",
       "      <td>0.3</td>\n",
       "      <td>0.2</td>\n",
       "      <td>0.264677</td>\n",
       "      <td>49.23</td>\n",
       "    </tr>\n",
       "    <tr>\n",
       "      <th>2</th>\n",
       "      <td>3</td>\n",
       "      <td>0.3</td>\n",
       "      <td>0.2</td>\n",
       "      <td>0.265185</td>\n",
       "      <td>50.12</td>\n",
       "    </tr>\n",
       "    <tr>\n",
       "      <th>3</th>\n",
       "      <td>4</td>\n",
       "      <td>0.3</td>\n",
       "      <td>0.2</td>\n",
       "      <td>0.265833</td>\n",
       "      <td>51.04</td>\n",
       "    </tr>\n",
       "    <tr>\n",
       "      <th>4</th>\n",
       "      <td>5</td>\n",
       "      <td>0.3</td>\n",
       "      <td>0.2</td>\n",
       "      <td>0.267500</td>\n",
       "      <td>50.29</td>\n",
       "    </tr>\n",
       "  </tbody>\n",
       "</table>\n",
       "</div>"
      ],
      "text/plain": [
       "   date  max_price  min_price  mean_price  total_price\n",
       "0     1        0.3        0.2    0.263116        52.36\n",
       "1     2        0.3        0.2    0.264677        49.23\n",
       "2     3        0.3        0.2    0.265185        50.12\n",
       "3     4        0.3        0.2    0.265833        51.04\n",
       "4     5        0.3        0.2    0.267500        50.29"
      ]
     },
     "execution_count": 273,
     "metadata": {},
     "output_type": "execute_result"
    }
   ],
   "source": [
    "chocagg.head(n=5)"
   ]
  },
  {
   "cell_type": "code",
   "execution_count": 274,
   "metadata": {
    "scrolled": false
   },
   "outputs": [
    {
     "data": {
      "text/plain": [
       "<bound method DataFrame.info of      date  max_price  min_price  mean_price  total_price\n",
       "0       1       0.30       0.20    0.263116        52.36\n",
       "1       2       0.30       0.20    0.264677        49.23\n",
       "2       3       0.30       0.20    0.265185        50.12\n",
       "3       4       0.30       0.20    0.265833        51.04\n",
       "4       5       0.30       0.20    0.267500        50.29\n",
       "..    ...        ...        ...         ...          ...\n",
       "275   276       1.00       0.50    0.717615        93.29\n",
       "276   277       1.00       0.50    0.713817        93.51\n",
       "277   278       0.99       0.50    0.719760        89.97\n",
       "278   279       1.00       0.45    0.724960        90.62\n",
       "279   280       0.99       0.55    0.721591        95.25\n",
       "\n",
       "[280 rows x 5 columns]>"
      ]
     },
     "execution_count": 274,
     "metadata": {},
     "output_type": "execute_result"
    }
   ],
   "source": [
    "chocagg.info"
   ]
  },
  {
   "cell_type": "code",
   "execution_count": 275,
   "metadata": {},
   "outputs": [
    {
     "data": {
      "text/plain": [
       "date             int64\n",
       "max_price      float64\n",
       "min_price      float64\n",
       "mean_price     float64\n",
       "total_price    float64\n",
       "dtype: object"
      ]
     },
     "execution_count": 275,
     "metadata": {},
     "output_type": "execute_result"
    }
   ],
   "source": [
    "chocagg.dtypes"
   ]
  },
  {
   "cell_type": "code",
   "execution_count": 276,
   "metadata": {
    "scrolled": false
   },
   "outputs": [
    {
     "data": {
      "text/plain": [
       "str"
      ]
     },
     "execution_count": 276,
     "metadata": {},
     "output_type": "execute_result"
    }
   ],
   "source": [
    "type('date')"
   ]
  },
  {
   "cell_type": "code",
   "execution_count": 277,
   "metadata": {
    "scrolled": false
   },
   "outputs": [
    {
     "data": {
      "text/html": [
       "<div>\n",
       "<style scoped>\n",
       "    .dataframe tbody tr th:only-of-type {\n",
       "        vertical-align: middle;\n",
       "    }\n",
       "\n",
       "    .dataframe tbody tr th {\n",
       "        vertical-align: top;\n",
       "    }\n",
       "\n",
       "    .dataframe thead th {\n",
       "        text-align: right;\n",
       "    }\n",
       "</style>\n",
       "<table border=\"1\" class=\"dataframe\">\n",
       "  <thead>\n",
       "    <tr style=\"text-align: right;\">\n",
       "      <th></th>\n",
       "      <th>date</th>\n",
       "      <th>max_price</th>\n",
       "      <th>min_price</th>\n",
       "      <th>mean_price</th>\n",
       "      <th>total_price</th>\n",
       "    </tr>\n",
       "  </thead>\n",
       "  <tbody>\n",
       "    <tr>\n",
       "      <th>count</th>\n",
       "      <td>280.000000</td>\n",
       "      <td>280.000000</td>\n",
       "      <td>280.000000</td>\n",
       "      <td>280.000000</td>\n",
       "      <td>280.000000</td>\n",
       "    </tr>\n",
       "    <tr>\n",
       "      <th>mean</th>\n",
       "      <td>140.500000</td>\n",
       "      <td>0.618500</td>\n",
       "      <td>0.341321</td>\n",
       "      <td>0.465408</td>\n",
       "      <td>59.749571</td>\n",
       "    </tr>\n",
       "    <tr>\n",
       "      <th>std</th>\n",
       "      <td>80.973247</td>\n",
       "      <td>0.219587</td>\n",
       "      <td>0.094827</td>\n",
       "      <td>0.151424</td>\n",
       "      <td>19.578092</td>\n",
       "    </tr>\n",
       "    <tr>\n",
       "      <th>min</th>\n",
       "      <td>1.000000</td>\n",
       "      <td>0.300000</td>\n",
       "      <td>0.200000</td>\n",
       "      <td>0.263116</td>\n",
       "      <td>15.660000</td>\n",
       "    </tr>\n",
       "    <tr>\n",
       "      <th>25%</th>\n",
       "      <td>70.750000</td>\n",
       "      <td>0.415000</td>\n",
       "      <td>0.260000</td>\n",
       "      <td>0.320798</td>\n",
       "      <td>41.850000</td>\n",
       "    </tr>\n",
       "    <tr>\n",
       "      <th>50%</th>\n",
       "      <td>140.500000</td>\n",
       "      <td>0.570000</td>\n",
       "      <td>0.320000</td>\n",
       "      <td>0.422874</td>\n",
       "      <td>53.830000</td>\n",
       "    </tr>\n",
       "    <tr>\n",
       "      <th>75%</th>\n",
       "      <td>210.250000</td>\n",
       "      <td>0.800000</td>\n",
       "      <td>0.400000</td>\n",
       "      <td>0.630935</td>\n",
       "      <td>81.010000</td>\n",
       "    </tr>\n",
       "    <tr>\n",
       "      <th>max</th>\n",
       "      <td>280.000000</td>\n",
       "      <td>1.000000</td>\n",
       "      <td>0.560000</td>\n",
       "      <td>0.724960</td>\n",
       "      <td>95.250000</td>\n",
       "    </tr>\n",
       "  </tbody>\n",
       "</table>\n",
       "</div>"
      ],
      "text/plain": [
       "             date   max_price   min_price  mean_price  total_price\n",
       "count  280.000000  280.000000  280.000000  280.000000   280.000000\n",
       "mean   140.500000    0.618500    0.341321    0.465408    59.749571\n",
       "std     80.973247    0.219587    0.094827    0.151424    19.578092\n",
       "min      1.000000    0.300000    0.200000    0.263116    15.660000\n",
       "25%     70.750000    0.415000    0.260000    0.320798    41.850000\n",
       "50%    140.500000    0.570000    0.320000    0.422874    53.830000\n",
       "75%    210.250000    0.800000    0.400000    0.630935    81.010000\n",
       "max    280.000000    1.000000    0.560000    0.724960    95.250000"
      ]
     },
     "execution_count": 277,
     "metadata": {},
     "output_type": "execute_result"
    }
   ],
   "source": [
    "chocagg.describe()"
   ]
  },
  {
   "cell_type": "code",
   "execution_count": 278,
   "metadata": {
    "scrolled": false
   },
   "outputs": [
    {
     "data": {
      "text/html": [
       "<div>\n",
       "<style scoped>\n",
       "    .dataframe tbody tr th:only-of-type {\n",
       "        vertical-align: middle;\n",
       "    }\n",
       "\n",
       "    .dataframe tbody tr th {\n",
       "        vertical-align: top;\n",
       "    }\n",
       "\n",
       "    .dataframe thead th {\n",
       "        text-align: right;\n",
       "    }\n",
       "</style>\n",
       "<table border=\"1\" class=\"dataframe\">\n",
       "  <thead>\n",
       "    <tr style=\"text-align: right;\">\n",
       "      <th></th>\n",
       "      <th>date</th>\n",
       "      <th>max_price</th>\n",
       "      <th>min_price</th>\n",
       "      <th>mean_price</th>\n",
       "      <th>total_price</th>\n",
       "    </tr>\n",
       "  </thead>\n",
       "  <tbody>\n",
       "  </tbody>\n",
       "</table>\n",
       "</div>"
      ],
      "text/plain": [
       "Empty DataFrame\n",
       "Columns: [date, max_price, min_price, mean_price, total_price]\n",
       "Index: []"
      ]
     },
     "execution_count": 278,
     "metadata": {},
     "output_type": "execute_result"
    }
   ],
   "source": [
    "chocagg[chocagg.date ==0]"
   ]
  },
  {
   "cell_type": "code",
   "execution_count": 279,
   "metadata": {},
   "outputs": [
    {
     "data": {
      "image/png": "[encoded data removed]",
      "text/plain": [
       "<Figure size 432x288 with 1 Axes>"
      ]
     },
     "metadata": {
      "needs_background": "light"
     },
     "output_type": "display_data"
    }
   ],
   "source": [
    "plt.scatter(chocagg['date'], chocagg['max_price'])\n",
    "plt.show()"
   ]
  },
  {
   "cell_type": "code",
   "execution_count": 280,
   "metadata": {
    "scrolled": false
   },
   "outputs": [
    {
     "data": {
      "image/png": "[encoded data removed]",
      "text/plain": [
       "<Figure size 432x288 with 1 Axes>"
      ]
     },
     "metadata": {
      "needs_background": "light"
     },
     "output_type": "display_data"
    }
   ],
   "source": [
    "# multiple line plot\n",
    "# example templates: https://www.kaggle.com/andyxie/matplotlib-plot-multiple-lines\n",
    "\n",
    "plt.plot(chocagg['date'], chocagg['max_price'], '-', label='max')\n",
    "plt.plot(chocagg['date'], chocagg['min_price'], '-', label='min') # could use '--' for dashed lined \n",
    "plt.plot(chocagg['date'], chocagg['mean_price'], '-', label='mean') # could use '-.' for dot-dashed lined \n",
    "plt.legend(loc=\"upper left\")\n",
    "plt.title('max-min UK chocolate prices, 1996-2019')\n",
    "plt.xlabel('date') # Set x-axis label\n",
    "plt.ylabel('price, £') # Set y-axis label\n",
    "plt.show()"
   ]
  },
  {
   "cell_type": "markdown",
   "metadata": {},
   "source": [
    "### creating percentiles for chocolate"
   ]
  },
  {
   "cell_type": "code",
   "execution_count": 281,
   "metadata": {},
   "outputs": [
    {
     "data": {
      "text/plain": [
       "<matplotlib.axes._subplots.AxesSubplot at 0x1a237efd30>"
      ]
     },
     "execution_count": 281,
     "metadata": {},
     "output_type": "execute_result"
    },
    {
     "data": {
      "image/png": "[encoded data removed]",
      "text/plain": [
       "<Figure size 432x288 with 1 Axes>"
      ]
     },
     "metadata": {
      "needs_background": "light"
     },
     "output_type": "display_data"
    }
   ],
   "source": [
    "(\n",
    "    choc\n",
    "    .groupby(\"date\")\n",
    "    [\"price\"]\n",
    "    .apply(pd.Series.quantile, [0.1, 0.2, 0.3,0.4,0.5,0.6,0.7,0.8, 0.9])\n",
    "    .unstack()\n",
    "    .rename(columns={0.1: \"p10\", 0.2:\"p20\", 0.3: \"p30\",0.4: \"p40\",0.5: \"p50\",0.6:\"p60\",0.7:\"p70\",0.8:\"p80\", 0.9: \"p90\"})\n",
    "    .plot()\n",
    ")\n"
   ]
  },
  {
   "cell_type": "code",
   "execution_count": 289,
   "metadata": {
    "scrolled": true
   },
   "outputs": [
    {
     "data": {
      "text/html": [
       "<div>\n",
       "<style scoped>\n",
       "    .dataframe tbody tr th:only-of-type {\n",
       "        vertical-align: middle;\n",
       "    }\n",
       "\n",
       "    .dataframe tbody tr th {\n",
       "        vertical-align: top;\n",
       "    }\n",
       "\n",
       "    .dataframe thead th {\n",
       "        text-align: right;\n",
       "    }\n",
       "</style>\n",
       "<table border=\"1\" class=\"dataframe\">\n",
       "  <thead>\n",
       "    <tr style=\"text-align: right;\">\n",
       "      <th></th>\n",
       "      <th>date</th>\n",
       "      <th>p10</th>\n",
       "      <th>p20</th>\n",
       "      <th>p30</th>\n",
       "      <th>p40</th>\n",
       "      <th>p50</th>\n",
       "      <th>p60</th>\n",
       "      <th>p70</th>\n",
       "      <th>p80</th>\n",
       "      <th>p90</th>\n",
       "    </tr>\n",
       "  </thead>\n",
       "  <tbody>\n",
       "    <tr>\n",
       "      <th>0</th>\n",
       "      <td>1</td>\n",
       "      <td>0.26</td>\n",
       "      <td>0.26</td>\n",
       "      <td>0.26</td>\n",
       "      <td>0.260</td>\n",
       "      <td>0.26</td>\n",
       "      <td>0.26</td>\n",
       "      <td>0.266</td>\n",
       "      <td>0.27</td>\n",
       "      <td>0.28</td>\n",
       "    </tr>\n",
       "    <tr>\n",
       "      <th>1</th>\n",
       "      <td>2</td>\n",
       "      <td>0.26</td>\n",
       "      <td>0.26</td>\n",
       "      <td>0.26</td>\n",
       "      <td>0.260</td>\n",
       "      <td>0.26</td>\n",
       "      <td>0.26</td>\n",
       "      <td>0.270</td>\n",
       "      <td>0.27</td>\n",
       "      <td>0.28</td>\n",
       "    </tr>\n",
       "    <tr>\n",
       "      <th>2</th>\n",
       "      <td>3</td>\n",
       "      <td>0.26</td>\n",
       "      <td>0.26</td>\n",
       "      <td>0.26</td>\n",
       "      <td>0.260</td>\n",
       "      <td>0.26</td>\n",
       "      <td>0.26</td>\n",
       "      <td>0.270</td>\n",
       "      <td>0.28</td>\n",
       "      <td>0.28</td>\n",
       "    </tr>\n",
       "    <tr>\n",
       "      <th>3</th>\n",
       "      <td>4</td>\n",
       "      <td>0.26</td>\n",
       "      <td>0.26</td>\n",
       "      <td>0.26</td>\n",
       "      <td>0.260</td>\n",
       "      <td>0.26</td>\n",
       "      <td>0.26</td>\n",
       "      <td>0.270</td>\n",
       "      <td>0.28</td>\n",
       "      <td>0.28</td>\n",
       "    </tr>\n",
       "    <tr>\n",
       "      <th>4</th>\n",
       "      <td>5</td>\n",
       "      <td>0.26</td>\n",
       "      <td>0.26</td>\n",
       "      <td>0.26</td>\n",
       "      <td>0.260</td>\n",
       "      <td>0.26</td>\n",
       "      <td>0.27</td>\n",
       "      <td>0.270</td>\n",
       "      <td>0.28</td>\n",
       "      <td>0.29</td>\n",
       "    </tr>\n",
       "    <tr>\n",
       "      <th>...</th>\n",
       "      <td>...</td>\n",
       "      <td>...</td>\n",
       "      <td>...</td>\n",
       "      <td>...</td>\n",
       "      <td>...</td>\n",
       "      <td>...</td>\n",
       "      <td>...</td>\n",
       "      <td>...</td>\n",
       "      <td>...</td>\n",
       "      <td>...</td>\n",
       "    </tr>\n",
       "    <tr>\n",
       "      <th>275</th>\n",
       "      <td>276</td>\n",
       "      <td>0.60</td>\n",
       "      <td>0.60</td>\n",
       "      <td>0.65</td>\n",
       "      <td>0.700</td>\n",
       "      <td>0.70</td>\n",
       "      <td>0.75</td>\n",
       "      <td>0.770</td>\n",
       "      <td>0.79</td>\n",
       "      <td>0.85</td>\n",
       "    </tr>\n",
       "    <tr>\n",
       "      <th>276</th>\n",
       "      <td>277</td>\n",
       "      <td>0.60</td>\n",
       "      <td>0.60</td>\n",
       "      <td>0.65</td>\n",
       "      <td>0.700</td>\n",
       "      <td>0.70</td>\n",
       "      <td>0.75</td>\n",
       "      <td>0.770</td>\n",
       "      <td>0.79</td>\n",
       "      <td>0.85</td>\n",
       "    </tr>\n",
       "    <tr>\n",
       "      <th>277</th>\n",
       "      <td>278</td>\n",
       "      <td>0.60</td>\n",
       "      <td>0.60</td>\n",
       "      <td>0.65</td>\n",
       "      <td>0.700</td>\n",
       "      <td>0.70</td>\n",
       "      <td>0.75</td>\n",
       "      <td>0.770</td>\n",
       "      <td>0.80</td>\n",
       "      <td>0.89</td>\n",
       "    </tr>\n",
       "    <tr>\n",
       "      <th>278</th>\n",
       "      <td>279</td>\n",
       "      <td>0.60</td>\n",
       "      <td>0.60</td>\n",
       "      <td>0.65</td>\n",
       "      <td>0.696</td>\n",
       "      <td>0.70</td>\n",
       "      <td>0.75</td>\n",
       "      <td>0.790</td>\n",
       "      <td>0.85</td>\n",
       "      <td>0.89</td>\n",
       "    </tr>\n",
       "    <tr>\n",
       "      <th>279</th>\n",
       "      <td>280</td>\n",
       "      <td>0.60</td>\n",
       "      <td>0.60</td>\n",
       "      <td>0.65</td>\n",
       "      <td>0.694</td>\n",
       "      <td>0.70</td>\n",
       "      <td>0.75</td>\n",
       "      <td>0.750</td>\n",
       "      <td>0.80</td>\n",
       "      <td>0.89</td>\n",
       "    </tr>\n",
       "  </tbody>\n",
       "</table>\n",
       "<p>280 rows × 10 columns</p>\n",
       "</div>"
      ],
      "text/plain": [
       "     date   p10   p20   p30    p40   p50   p60    p70   p80   p90\n",
       "0       1  0.26  0.26  0.26  0.260  0.26  0.26  0.266  0.27  0.28\n",
       "1       2  0.26  0.26  0.26  0.260  0.26  0.26  0.270  0.27  0.28\n",
       "2       3  0.26  0.26  0.26  0.260  0.26  0.26  0.270  0.28  0.28\n",
       "3       4  0.26  0.26  0.26  0.260  0.26  0.26  0.270  0.28  0.28\n",
       "4       5  0.26  0.26  0.26  0.260  0.26  0.27  0.270  0.28  0.29\n",
       "..    ...   ...   ...   ...    ...   ...   ...    ...   ...   ...\n",
       "275   276  0.60  0.60  0.65  0.700  0.70  0.75  0.770  0.79  0.85\n",
       "276   277  0.60  0.60  0.65  0.700  0.70  0.75  0.770  0.79  0.85\n",
       "277   278  0.60  0.60  0.65  0.700  0.70  0.75  0.770  0.80  0.89\n",
       "278   279  0.60  0.60  0.65  0.696  0.70  0.75  0.790  0.85  0.89\n",
       "279   280  0.60  0.60  0.65  0.694  0.70  0.75  0.750  0.80  0.89\n",
       "\n",
       "[280 rows x 10 columns]"
      ]
     },
     "execution_count": 289,
     "metadata": {},
     "output_type": "execute_result"
    }
   ],
   "source": [
    "choc_perc = (choc\n",
    "    .groupby(\"date\")\n",
    "    [\"price\"]\n",
    "    .apply(pd.Series.quantile, [0.1, 0.2, 0.3,0.4,0.5,0.6,0.7,0.8, 0.9])\n",
    "    .unstack()\n",
    "    .rename(columns={0.1: \"p10\", 0.2:\"p20\", 0.3: \"p30\",0.4: \"p40\",0.5: \"p50\",0.6:\"p60\",0.7:\"p70\",0.8:\"p80\", 0.9: \"p90\"})\n",
    "        ).reset_index() \n",
    "\n",
    "choc_perc"
   ]
  },
  {
   "cell_type": "code",
   "execution_count": 290,
   "metadata": {
    "scrolled": true
   },
   "outputs": [
    {
     "data": {
      "text/plain": [
       "date      int64\n",
       "p10     float64\n",
       "p20     float64\n",
       "p30     float64\n",
       "p40     float64\n",
       "p50     float64\n",
       "p60     float64\n",
       "p70     float64\n",
       "p80     float64\n",
       "p90     float64\n",
       "dtype: object"
      ]
     },
     "execution_count": 290,
     "metadata": {},
     "output_type": "execute_result"
    }
   ],
   "source": [
    "choc_perc.dtypes"
   ]
  },
  {
   "cell_type": "code",
   "execution_count": 304,
   "metadata": {},
   "outputs": [
    {
     "data": {
      "image/png": "[encoded data removed]",
      "text/plain": [
       "<Figure size 432x288 with 1 Axes>"
      ]
     },
     "metadata": {
      "needs_background": "light"
     },
     "output_type": "display_data"
    }
   ],
   "source": [
    "plt.plot(choc_perc['date'], choc_perc['p10'], '-', label='p10')\n",
    "plt.plot(choc_perc['date'], choc_perc['p50'], '-', label='p50') # could use '--' for dashed lined \n",
    "plt.plot(choc_perc['date'], choc_perc['p90'], '-', label='p90') # could use '-.' for dot-dashed lined \n",
    "#plt.legend(loc=\"upper left\")\n",
    "plt.legend(bbox_to_anchor=(1, 1.05))\n",
    "plt.title('UK chocolate prices by percentile, 1996-2019')\n",
    "plt.xlabel('date') # Set x-axis label\n",
    "plt.ylabel('price, £') # Set y-axis label\n",
    "plt.annotate('Source: ONS monthly data, Davies (2019)', \n",
    "             (0,0), (0, -35), xycoords='axes fraction', textcoords='offset points', va='top')\n",
    "sns.despine() \n",
    "plt.show()"
   ]
  },
  {
   "cell_type": "code",
   "execution_count": 293,
   "metadata": {},
   "outputs": [],
   "source": [
    "choc_perr = (choc\n",
    "    .groupby(\"date\")\n",
    "    [\"price\"]\n",
    "    .apply(pd.Series.quantile, [0.1, 0.2, 0.3,0.4,0.5,0.6,0.7,0.8, 0.9])\n",
    "    .unstack()\n",
    "    .rename(columns={0.1: \"p10\", 0.2:\"p20\", 0.3: \"p30\",0.4: \"p40\",0.5: \"p50\",0.6:\"p60\",0.7:\"p70\",0.8:\"p80\", 0.9: \"p90\"})\n",
    "        )"
   ]
  },
  {
   "cell_type": "code",
   "execution_count": 294,
   "metadata": {},
   "outputs": [
    {
     "data": {
      "text/plain": [
       "<matplotlib.axes._subplots.AxesSubplot at 0x1200b2fd0>"
      ]
     },
     "execution_count": 294,
     "metadata": {},
     "output_type": "execute_result"
    },
    {
     "data": {
      "image/png": "[encoded data removed]",
      "text/plain": [
       "<Figure size 432x288 with 1 Axes>"
      ]
     },
     "metadata": {
      "needs_background": "light"
     },
     "output_type": "display_data"
    }
   ],
   "source": [
    "choc_perr.plot.area()"
   ]
  },
  {
   "cell_type": "code",
   "execution_count": null,
   "metadata": {},
   "outputs": [],
   "source": []
  },
  {
   "cell_type": "code",
   "execution_count": 194,
   "metadata": {},
   "outputs": [],
   "source": [
    "test3 = df1[df1['description'] == 'CHOCOLATE'].groupby('date')['price'].quantile([0.1,0.2,0.3,0.4,0.5,0.6,0.7,0.8,0.9])"
   ]
  },
  {
   "cell_type": "code",
   "execution_count": 195,
   "metadata": {
    "scrolled": true
   },
   "outputs": [
    {
     "data": {
      "text/plain": [
       "date     \n",
       "1     0.1    0.248\n",
       "      0.2    0.260\n",
       "      0.3    0.260\n",
       "      0.4    0.260\n",
       "      0.5    0.260\n",
       "Name: price, dtype: float64"
      ]
     },
     "execution_count": 195,
     "metadata": {},
     "output_type": "execute_result"
    }
   ],
   "source": [
    "test3.head()"
   ]
  },
  {
   "cell_type": "code",
   "execution_count": 127,
   "metadata": {},
   "outputs": [],
   "source": [
    "# Stuff that hasn't worked: \n",
    "#choc_group = choc.quantile([0.1,0.2,0.3,0.4,0.5,0.6,0.7,0.8,0.9]).reset_index() \n",
    "#test = df1[df1['description'] == 'CHOCOLATE'].groupby('date').quantile([0.1,0.2,0.3,0.4,0.5,0.6,0.7,0.8,0.9]).reset_index() "
   ]
  },
  {
   "cell_type": "code",
   "execution_count": null,
   "metadata": {},
   "outputs": [],
   "source": [
    "#choc_quant = choc['price'].quantile([0.1,0.2,0.3,0.4,0.5,0.6,0.7,0.8,0.9])"
   ]
  },
  {
   "cell_type": "markdown",
   "metadata": {},
   "source": [
    "# Take another look at the percentile charts \n",
    "\n",
    "Note: here we filter columns relating to chocolate and the only pick the date and percentile variables. "
   ]
  },
  {
   "cell_type": "markdown",
   "metadata": {},
   "source": [
    "# Area/ Swathe Charts \n",
    "\n",
    "This is a neater way to display the data. Agaian using it for chocolate \n",
    "\n",
    "__Extension__: You can do this for other items in the our original dataframe. "
   ]
  },
  {
   "cell_type": "markdown",
   "metadata": {},
   "source": [
    "# Extended extension \n",
    "\n",
    "If you have time, you can go back and download the sample dataset for all basket items. \n",
    "These are ~172 items which have been present throughout 1996 - 2019. You can do a similar exercise for a select number of items, or create your own consumer 'basket'."
   ]
  }
 ],
 "metadata": {
  "kernelspec": {
   "display_name": "Python 3",
   "language": "python",
   "name": "python3"
  },
  "language_info": {
   "codemirror_mode": {
    "name": "ipython",
    "version": 3
   },
   "file_extension": ".py",
   "mimetype": "text/x-python",
   "name": "python",
   "nbconvert_exporter": "python",
   "pygments_lexer": "ipython3",
   "version": "3.7.1"
  }
 },
 "nbformat": 4,
 "nbformat_minor": 2
}
