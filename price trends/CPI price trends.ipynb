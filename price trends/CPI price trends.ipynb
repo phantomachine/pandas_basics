{
 "cells": [
  {
   "attachments": {},
   "cell_type": "markdown",
   "metadata": {},
   "source": [
    "# CPI price trends \n",
    "\n",
    "This code for a python workshop with LSE undergraduate economics students to assess price ridigity and trends using UK CPI data.\n",
    "\n",
    "__The brief__\n",
    "\n",
    "You are an economics consultant and have been approached by an ecommerce business who are looking to expand the products available on their platform. They would like you to provide an analysis of popular items for UK consumers and their corresponding price trends. As an online site they might also want to know about regional differences and how that might inform their firm's pricing decisions. "
   ]
  },
  {
   "cell_type": "markdown",
   "metadata": {},
   "source": [
    "# Motivation \n",
    "\n",
    "This data has been provided by [Richard Davies](https://richarddavies.io/research/the-uk-consumer-basket) where you can also find the corresponding draft paper. \n",
    "\n",
    "\n",
    "## Related literature \n",
    "For the purposes of the weekend, we suggest only skimming one or two of the papers. Given you are time constrained, you should not spend a lot of your time on this. \n",
    "\n",
    "Klenow P and Malin B (2010), “Microeconomic Evidence on Price Setting”, prepared for the Handbook of Monetary Economics. Available [here](https://www.nber.org/papers/w15826)\n",
    "\n",
    "Kehoe, Patrick and Virgiliu Midrigan (2014) “Prices are Sticky After All,\" Journal of Monetary Economics. Available [here](https://www.sciencedirect.com/science/article/pii/S0304393214001809)\n",
    "\n",
    "Nakamura, Emi and Jón Steinsson (2013), “Lost in Transit: Product Replacement Bias and Pricing to Market”, American Economic Review 2012, 102(7): 3277–3316. [here](https://www.aeaweb.org/articles?id=10.1257/aer.102.7.3277)\n"
   ]
  },
  {
   "cell_type": "markdown",
   "metadata": {},
   "source": [
    "# Import relevant packages\n",
    "Students will be familiar with most these packages, you will use the usual pandas, numpy and mapplotlib "
   ]
  },
  {
   "cell_type": "code",
   "execution_count": null,
   "metadata": {},
   "outputs": [],
   "source": [
    "import pandas as pd\n",
    "import numpy as np\n",
    "import matplotlib.pyplot as plt"
   ]
  },
  {
   "cell_type": "markdown",
   "metadata": {},
   "source": [
    "# Import data\n",
    "This will be a more discursive task. There is no correct answer and the dataset you will be using is not the original ONS price quotes data, which is available [here](https://www.ons.gov.uk/economy/inflationandpriceindices/datasets/consumerpriceindicescpiandretailpricesindexrpiitemindicesandpricequotes) but a smaller sample with fewer basket items. \n",
    "\n",
    "You should however explain what the CBI basket is and understand how basket items are selected and deselected. \n",
    "\n"
   ]
  }
 ],
 "metadata": {
  "kernelspec": {
   "display_name": "Python 3",
   "language": "python",
   "name": "python3"
  },
  "language_info": {
   "codemirror_mode": {
    "name": "ipython",
    "version": 3
   },
   "file_extension": ".py",
   "mimetype": "text/x-python",
   "name": "python",
   "nbconvert_exporter": "python",
   "pygments_lexer": "ipython3",
   "version": "3.7.1"
  }
 },
 "nbformat": 4,
 "nbformat_minor": 2
}
