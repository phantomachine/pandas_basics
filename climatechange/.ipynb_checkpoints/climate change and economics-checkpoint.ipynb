{
 "cells": [
  {
   "attachments": {},
   "cell_type": "markdown",
   "metadata": {},
   "source": [
    "# Climate change and economics\n",
    "\n",
    "___________\n",
    "\n",
    "Scenario: The Bank of England have recently carried out a review on how climate change might affect the financial services sector. They are also looking at how the Bank can ensure financial resilience at the UK transitions to a low carbon economy. Some groups have been critical of this approach. You are asked to suggest why there might there a case for economists and the BoE to prioritise the climate crisis."
   ]
  },
  {
   "cell_type": "markdown",
   "metadata": {},
   "source": [
    "# Import relevant packages"
   ]
  },
  {
   "cell_type": "code",
   "execution_count": 1,
   "metadata": {},
   "outputs": [],
   "source": [
    "import pandas as pd\n",
    "import numpy as np\n",
    "import matplotlib.pyplot as plt\n",
    "import seaborn as sns\n",
    "import geopandas"
   ]
  },
  {
   "cell_type": "markdown",
   "metadata": {},
   "source": [
    "# Import data\n",
    "\n",
    "This will be a more discursive task. There is no correct answer and there will be a few datasets you'll be using to get an idea of what the issue is and why this might be an issue for economists. \n",
    "\n",
    "The data has been taken from the OECD and is available here: https://data.oecd.org/air/air-pollution-exposure.htm"
   ]
  },
  {
   "cell_type": "code",
   "execution_count": 4,
   "metadata": {
    "scrolled": true
   },
   "outputs": [],
   "source": [
    "airpoll= pd.read_csv('OCED(2019)Airpollution_exposure.csv',index_col='LOCATION')"
   ]
  },
  {
   "cell_type": "code",
   "execution_count": 5,
   "metadata": {},
   "outputs": [
    {
     "data": {
      "text/html": [
       "<div>\n",
       "<style scoped>\n",
       "    .dataframe tbody tr th:only-of-type {\n",
       "        vertical-align: middle;\n",
       "    }\n",
       "\n",
       "    .dataframe tbody tr th {\n",
       "        vertical-align: top;\n",
       "    }\n",
       "\n",
       "    .dataframe thead th {\n",
       "        text-align: right;\n",
       "    }\n",
       "</style>\n",
       "<table border=\"1\" class=\"dataframe\">\n",
       "  <thead>\n",
       "    <tr style=\"text-align: right;\">\n",
       "      <th></th>\n",
       "      <th>INDICATOR</th>\n",
       "      <th>SUBJECT</th>\n",
       "      <th>MEASURE</th>\n",
       "      <th>FREQUENCY</th>\n",
       "      <th>TIME</th>\n",
       "      <th>Value</th>\n",
       "      <th>Flag Codes</th>\n",
       "    </tr>\n",
       "    <tr>\n",
       "      <th>LOCATION</th>\n",
       "      <th></th>\n",
       "      <th></th>\n",
       "      <th></th>\n",
       "      <th></th>\n",
       "      <th></th>\n",
       "      <th></th>\n",
       "      <th></th>\n",
       "    </tr>\n",
       "  </thead>\n",
       "  <tbody>\n",
       "    <tr>\n",
       "      <th>AUS</th>\n",
       "      <td>POLLUTIONEXP</td>\n",
       "      <td>EXPOS2PM25</td>\n",
       "      <td>MICGRCUBM</td>\n",
       "      <td>A</td>\n",
       "      <td>1990</td>\n",
       "      <td>10.36402</td>\n",
       "      <td>NaN</td>\n",
       "    </tr>\n",
       "    <tr>\n",
       "      <th>AUS</th>\n",
       "      <td>POLLUTIONEXP</td>\n",
       "      <td>EXPOS2PM25</td>\n",
       "      <td>MICGRCUBM</td>\n",
       "      <td>A</td>\n",
       "      <td>1995</td>\n",
       "      <td>10.41745</td>\n",
       "      <td>NaN</td>\n",
       "    </tr>\n",
       "    <tr>\n",
       "      <th>AUS</th>\n",
       "      <td>POLLUTIONEXP</td>\n",
       "      <td>EXPOS2PM25</td>\n",
       "      <td>MICGRCUBM</td>\n",
       "      <td>A</td>\n",
       "      <td>2000</td>\n",
       "      <td>10.73562</td>\n",
       "      <td>NaN</td>\n",
       "    </tr>\n",
       "    <tr>\n",
       "      <th>AUS</th>\n",
       "      <td>POLLUTIONEXP</td>\n",
       "      <td>EXPOS2PM25</td>\n",
       "      <td>MICGRCUBM</td>\n",
       "      <td>A</td>\n",
       "      <td>2005</td>\n",
       "      <td>10.52515</td>\n",
       "      <td>NaN</td>\n",
       "    </tr>\n",
       "    <tr>\n",
       "      <th>AUS</th>\n",
       "      <td>POLLUTIONEXP</td>\n",
       "      <td>EXPOS2PM25</td>\n",
       "      <td>MICGRCUBM</td>\n",
       "      <td>A</td>\n",
       "      <td>2010</td>\n",
       "      <td>10.53559</td>\n",
       "      <td>NaN</td>\n",
       "    </tr>\n",
       "  </tbody>\n",
       "</table>\n",
       "</div>"
      ],
      "text/plain": [
       "             INDICATOR     SUBJECT    MEASURE FREQUENCY  TIME     Value  \\\n",
       "LOCATION                                                                  \n",
       "AUS       POLLUTIONEXP  EXPOS2PM25  MICGRCUBM         A  1990  10.36402   \n",
       "AUS       POLLUTIONEXP  EXPOS2PM25  MICGRCUBM         A  1995  10.41745   \n",
       "AUS       POLLUTIONEXP  EXPOS2PM25  MICGRCUBM         A  2000  10.73562   \n",
       "AUS       POLLUTIONEXP  EXPOS2PM25  MICGRCUBM         A  2005  10.52515   \n",
       "AUS       POLLUTIONEXP  EXPOS2PM25  MICGRCUBM         A  2010  10.53559   \n",
       "\n",
       "          Flag Codes  \n",
       "LOCATION              \n",
       "AUS              NaN  \n",
       "AUS              NaN  \n",
       "AUS              NaN  \n",
       "AUS              NaN  \n",
       "AUS              NaN  "
      ]
     },
     "execution_count": 5,
     "metadata": {},
     "output_type": "execute_result"
    }
   ],
   "source": [
    "airpoll.head()"
   ]
  },
  {
   "cell_type": "markdown",
   "metadata": {},
   "source": [
    "# Inspect the data \n",
    "\n",
    "Once you import the data, you want to look at what data is telling us and how we can use it.\n",
    "\n",
    "Need to get to know the data you're using before doing any analysis. \n",
    "\n",
    "Note down some of the interesting stats from here - this will be helpful when giving your presentation"
   ]
  },
  {
   "cell_type": "code",
   "execution_count": 8,
   "metadata": {},
   "outputs": [
    {
     "data": {
      "text/plain": [
       "(4056, 7)"
      ]
     },
     "execution_count": 8,
     "metadata": {},
     "output_type": "execute_result"
    }
   ],
   "source": [
    "airpoll.shape"
   ]
  },
  {
   "cell_type": "code",
   "execution_count": 9,
   "metadata": {
    "scrolled": true
   },
   "outputs": [
    {
     "data": {
      "text/html": [
       "<div>\n",
       "<style scoped>\n",
       "    .dataframe tbody tr th:only-of-type {\n",
       "        vertical-align: middle;\n",
       "    }\n",
       "\n",
       "    .dataframe tbody tr th {\n",
       "        vertical-align: top;\n",
       "    }\n",
       "\n",
       "    .dataframe thead th {\n",
       "        text-align: right;\n",
       "    }\n",
       "</style>\n",
       "<table border=\"1\" class=\"dataframe\">\n",
       "  <thead>\n",
       "    <tr style=\"text-align: right;\">\n",
       "      <th></th>\n",
       "      <th>TIME</th>\n",
       "      <th>Value</th>\n",
       "      <th>Flag Codes</th>\n",
       "    </tr>\n",
       "  </thead>\n",
       "  <tbody>\n",
       "    <tr>\n",
       "      <th>count</th>\n",
       "      <td>4056.000000</td>\n",
       "      <td>4056.000000</td>\n",
       "      <td>0.0</td>\n",
       "    </tr>\n",
       "    <tr>\n",
       "      <th>mean</th>\n",
       "      <td>2008.166667</td>\n",
       "      <td>60.638246</td>\n",
       "      <td>NaN</td>\n",
       "    </tr>\n",
       "    <tr>\n",
       "      <th>std</th>\n",
       "      <td>8.415641</td>\n",
       "      <td>37.147763</td>\n",
       "      <td>NaN</td>\n",
       "    </tr>\n",
       "    <tr>\n",
       "      <th>min</th>\n",
       "      <td>1990.000000</td>\n",
       "      <td>0.000000</td>\n",
       "      <td>NaN</td>\n",
       "    </tr>\n",
       "    <tr>\n",
       "      <th>25%</th>\n",
       "      <td>2003.750000</td>\n",
       "      <td>23.208385</td>\n",
       "      <td>NaN</td>\n",
       "    </tr>\n",
       "    <tr>\n",
       "      <th>50%</th>\n",
       "      <td>2011.500000</td>\n",
       "      <td>60.455920</td>\n",
       "      <td>NaN</td>\n",
       "    </tr>\n",
       "    <tr>\n",
       "      <th>75%</th>\n",
       "      <td>2014.250000</td>\n",
       "      <td>99.756260</td>\n",
       "      <td>NaN</td>\n",
       "    </tr>\n",
       "    <tr>\n",
       "      <th>max</th>\n",
       "      <td>2017.000000</td>\n",
       "      <td>103.193240</td>\n",
       "      <td>NaN</td>\n",
       "    </tr>\n",
       "  </tbody>\n",
       "</table>\n",
       "</div>"
      ],
      "text/plain": [
       "              TIME        Value  Flag Codes\n",
       "count  4056.000000  4056.000000         0.0\n",
       "mean   2008.166667    60.638246         NaN\n",
       "std       8.415641    37.147763         NaN\n",
       "min    1990.000000     0.000000         NaN\n",
       "25%    2003.750000    23.208385         NaN\n",
       "50%    2011.500000    60.455920         NaN\n",
       "75%    2014.250000    99.756260         NaN\n",
       "max    2017.000000   103.193240         NaN"
      ]
     },
     "execution_count": 9,
     "metadata": {},
     "output_type": "execute_result"
    }
   ],
   "source": [
    "airpoll.describe()"
   ]
  },
  {
   "cell_type": "code",
   "execution_count": null,
   "metadata": {},
   "outputs": [],
   "source": []
  }
 ],
 "metadata": {
  "kernelspec": {
   "display_name": "Python 3",
   "language": "python",
   "name": "python3"
  },
  "language_info": {
   "codemirror_mode": {
    "name": "ipython",
    "version": 3
   },
   "file_extension": ".py",
   "mimetype": "text/x-python",
   "name": "python",
   "nbconvert_exporter": "python",
   "pygments_lexer": "ipython3",
   "version": "3.7.1"
  }
 },
 "nbformat": 4,
 "nbformat_minor": 2
}
