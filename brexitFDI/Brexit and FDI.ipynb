{
 "cells": [
  {
   "attachments": {},
   "cell_type": "markdown",
   "metadata": {},
   "source": [
    "# Brexit and FDI \n",
    "\n",
    "This is code for a python workshop with LSE undergraduate economics students to explore the role of Brexit on Foreign Direct Investment in the UK.\n",
    "\n",
    "-------\n",
    "\n",
    "__The Brief__ \n",
    "\n",
    "You are an economist working at a global business headquartered in Singapore. In 2015 your company were looking to expand its operations to the UK but have held off in light of Brexit. You are asked to provide a briefing about what the current data tells us about trade and investment in the UK. Include theory of why this might be the case and what this tells us about the UK economy. \n"
   ]
  },
  {
   "cell_type": "markdown",
   "metadata": {},
   "source": [
    "# Motivation \n",
    "\n",
    "In June 2016 the UK voted to leave the European Union. \n",
    "\n",
    "\n",
    "\n",
    "### Related Literature \n",
    "\n",
    "Borensztein, E., J. De Gregorio and J. W. Lee. \"How Does Foreign Direct Investment Affect Economic Growth?,\" Journal of International Economics, 1998, v45(1,Jun), 115-135. Available [here.]('https://www.nber.org/papers/w5057.pdf\")\n",
    "\n",
    "Dhingra, S., Ottaviano, G.,Rappoport, V., Sampson, T and Thomas, C. (2018) UK trade and FDI: A post-Brexit perspective. Papers in Regional Science, 97 (1). pp. 9-25. ISSN 1056-8190. Available [here.](\"http://eprints.lse.ac.uk/85341/13/Ottaviano_UK%20Trade%20and%20FDI.pdf\")\n",
    "\n",
    "\n",
    "Holger Breinlich, Elsa Leromain, Dennis Novy, Thomas Sampson (2019) Voting With Their Money: Brexit and Outward: Investment by UK Firms. CEP Discussion Paper No 1637. Available [here.](\"http://cep.lse.ac.uk/pubs/download/dp1637.pdf\")\n",
    "\n",
    "Desai, Mihir A., C. Fritz Foley and James R. Hines, Jr. \"Foreign Direct Investment And The Domestic Capital Stock,\" American Economic Review, 2005, v95(2,May), 33-38. Available [here"
   ]
  }
 ],
 "metadata": {
  "kernelspec": {
   "display_name": "Python 3",
   "language": "python",
   "name": "python3"
  },
  "language_info": {
   "codemirror_mode": {
    "name": "ipython",
    "version": 3
   },
   "file_extension": ".py",
   "mimetype": "text/x-python",
   "name": "python",
   "nbconvert_exporter": "python",
   "pygments_lexer": "ipython3",
   "version": "3.7.1"
  }
 },
 "nbformat": 4,
 "nbformat_minor": 2
}
