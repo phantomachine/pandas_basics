{
 "cells": [
  {
   "attachments": {},
   "cell_type": "markdown",
   "metadata": {},
   "source": [
    "# Brexit and FDI \n",
    "\n",
    "This is code for a python workshop with LSE undergraduate economics students to explore the role of Brexit on Foreign Direct Investment in the UK.\n",
    "\n",
    "-------\n",
    "\n",
    "__The Brief__ \n",
    "\n",
    "You are an economist working at a global business headquartered in Singapore. In 2015 your company were looking to expand its operations to the UK but have held off in light of Brexit. You are asked to provide a briefing about what the current data tells us about foreign investment in the UK. Include theory of why this might be the case and what this tells us about the UK economy. \n"
   ]
  },
  {
   "cell_type": "markdown",
   "metadata": {},
   "source": [
    "# Motivation \n",
    "\n",
    "In June 2016 the UK voted to leave the European Union and on 31st January 2020 the UK officially left the EU. This change is likely to become one of the most important UK economic policy changes for decades, but how will this affect those thinking of investing into the UK? \n",
    "\n",
    "Most anaylses carried out by economists before the referendum indicated that leaving the EU would have negative short and long-run consequences for a range of economic indicators, including inflation, foreign direct investment, and per capita income. \n",
    "\n",
    "While the status quo of the trading relationship between the UK and EU remains during the transition period, anecdotal evidence suggests the uncertainty over Britain's trading relationship with the EU is damaging the Britain’s attractiveness as a destination for inward investment. \n",
    "\n",
    "\n",
    "### Related Literature \n",
    "\n",
    "__Note__: For the purposes of the weekend, we suggest only skimming one or two of the papers. Given you are time constrained, you should not spend a lot of your time on this.\n",
    "\n",
    "Borensztein, E., J. De Gregorio and J. W. Lee. \"How Does Foreign Direct Investment Affect Economic Growth?,\" Journal of International Economics, 1998, v45(1,Jun), 115-135. Available [here.]('https://www.nber.org/papers/w5057.pdf\")\n",
    "\n",
    "Bruno, R., N. Campos and S. Estrin (2017), “What do we know about FDI?\" [here.](\"https://blogs.lse.ac.uk/gild/2017/09/25/what-do-we-know-about-fdi/\")\n",
    "\n",
    "Dhingra, S., Ottaviano, G.,Rappoport, V., Sampson, T and Thomas, C. (2018) UK trade and FDI: A post-Brexit perspective. Papers in Regional Science, 97 (1). pp. 9-25. ISSN 1056-8190. Available [here.](\"http://eprints.lse.ac.uk/85341/13/Ottaviano_UK%20Trade%20and%20FDI.pdf\")\n",
    "\n",
    "\n",
    "Holger Breinlich, Elsa Leromain, Dennis Novy, Thomas Sampson (2019) Voting With Their Money: Brexit and Outward: Investment by UK Firms. CEP Discussion Paper No 1637. Available [here.](\"http://cep.lse.ac.uk/pubs/download/dp1637.pdf\")\n"
   ]
  },
  {
   "cell_type": "markdown",
   "metadata": {},
   "source": [
    "# Approaching the question \n",
    "\n",
    "In your presentation think about answering:\n",
    "* What are the benefits of FDI i.e. why do economists care about it? \n",
    "* Has the level [and growth] of FDI in the UK changed since Brexit?\n",
    "* What does a change in FDI in a country mean for the domestic country? (hint: does it increase jobs or productivity?)\n",
    "* How has FDI differed by sector in the UK?\n",
    "* How has FDI differed by country? (include a couple of cross-country examples)"
   ]
  },
  {
   "cell_type": "markdown",
   "metadata": {},
   "source": [
    "# Import packages \n",
    "For this you will only need the regular pandas, numpy and matplotlib"
   ]
  },
  {
   "cell_type": "code",
   "execution_count": 1,
   "metadata": {},
   "outputs": [],
   "source": [
    "import pandas as pd\n",
    "import numpy as np\n",
    "import matplotlib.pyplot as plt"
   ]
  },
  {
   "cell_type": "markdown",
   "metadata": {
    "slideshow": {
     "slide_type": "slide"
    }
   },
   "source": [
    "# Import the data \n",
    "\n",
    "- OECD data on FDI flows \n",
    "- Sterling prices \n",
    "- DIT stats: https://www.gov.uk/government/collections/dit-inward-investment-results "
   ]
  },
  {
   "cell_type": "markdown",
   "metadata": {},
   "source": [
    "# Inspect the data \n",
    "\n",
    "Once you import the data, you want to look at what the data is telling us and how we can use it.\n",
    "\n",
    "Need to get to know the data you're using before doing any analysis.\n",
    "\n",
    "Note down some of the interesting stats from here - this will be helpful when giving your presentation"
   ]
  },
  {
   "cell_type": "code",
   "execution_count": null,
   "metadata": {},
   "outputs": [],
   "source": []
  },
  {
   "cell_type": "markdown",
   "metadata": {},
   "source": [
    "# Create basic variables, country specific "
   ]
  },
  {
   "cell_type": "markdown",
   "metadata": {},
   "source": [
    "# Analysis \n",
    "Can you calculate growth rates? \n",
    "\n",
    "Has the rate of FDI growth into the UK increased or decreased since 2016? \n"
   ]
  },
  {
   "cell_type": "markdown",
   "metadata": {},
   "source": [
    "# Visualisations \n",
    "What have we found so far? "
   ]
  },
  {
   "cell_type": "markdown",
   "metadata": {},
   "source": [
    "# Extension "
   ]
  }
 ],
 "metadata": {
  "kernelspec": {
   "display_name": "Python 3",
   "language": "python",
   "name": "python3"
  },
  "language_info": {
   "codemirror_mode": {
    "name": "ipython",
    "version": 3
   },
   "file_extension": ".py",
   "mimetype": "text/x-python",
   "name": "python",
   "nbconvert_exporter": "python",
   "pygments_lexer": "ipython3",
   "version": "3.7.1"
  }
 },
 "nbformat": 4,
 "nbformat_minor": 2
}
